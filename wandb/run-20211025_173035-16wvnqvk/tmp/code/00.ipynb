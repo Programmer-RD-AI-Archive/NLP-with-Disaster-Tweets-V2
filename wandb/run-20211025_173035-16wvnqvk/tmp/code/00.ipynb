{
 "cells": [
  {
   "cell_type": "code",
   "execution_count": 1,
   "id": "6c25e881-2b4a-4baf-8c8c-e3a086f88dee",
   "metadata": {},
   "outputs": [],
   "source": [
    "import wandb\n",
    "import nltk\n",
    "from nltk.stem.porter import *\n",
    "from torch.nn import *\n",
    "from torch.optim import *\n",
    "import numpy as np\n",
    "import pandas as pd\n",
    "import torch,torchvision\n",
    "import random\n",
    "from tqdm import *\n",
    "from torch.utils.data import Dataset,DataLoader\n",
    "stemmer = PorterStemmer()\n",
    "PROJECT_NAME = 'NLP-with-Disaster-Tweets-V2'\n",
    "device = 'cuda'"
   ]
  },
  {
   "cell_type": "code",
   "execution_count": 2,
   "id": "f5b6cf52-dedd-4fb6-b814-aafd1887b55c",
   "metadata": {},
   "outputs": [],
   "source": [
    "def tokenize(sentence):\n",
    "    return nltk.word_tokenize(sentence.lower())"
   ]
  },
  {
   "cell_type": "code",
   "execution_count": 3,
   "id": "4c2124ff-4e36-4658-b2e3-50d12e33141d",
   "metadata": {},
   "outputs": [
    {
     "data": {
      "text/plain": [
       "['$', '100']"
      ]
     },
     "execution_count": 3,
     "metadata": {},
     "output_type": "execute_result"
    }
   ],
   "source": [
    "tokenize('$100')"
   ]
  },
  {
   "cell_type": "code",
   "execution_count": 4,
   "id": "5b97cbdb-d22e-446f-8094-f5047371de93",
   "metadata": {},
   "outputs": [],
   "source": [
    "def stem(word):\n",
    "    return stemmer.stem(word.lower())"
   ]
  },
  {
   "cell_type": "code",
   "execution_count": 5,
   "id": "4304d777-c02d-4093-af0e-ff8ad43295aa",
   "metadata": {},
   "outputs": [
    {
     "data": {
      "text/plain": [
       "'organ'"
      ]
     },
     "execution_count": 5,
     "metadata": {},
     "output_type": "execute_result"
    }
   ],
   "source": [
    "stem('organic')"
   ]
  },
  {
   "cell_type": "code",
   "execution_count": 6,
   "id": "f2ec4000-1e29-476b-81cc-aa7bbcddf21c",
   "metadata": {},
   "outputs": [],
   "source": [
    "def bag_of_words(tokenized_words,words):\n",
    "    tokenized_words = [stem(w) for w in tokenized_words]\n",
    "    bag = np.zeros(len(words))\n",
    "    for idx,w in enumerate(words):\n",
    "        if w in tokenized_words:\n",
    "            bag[idx] = 1.0\n",
    "    return bag"
   ]
  },
  {
   "cell_type": "code",
   "execution_count": 7,
   "id": "5a2cfc15-b276-4986-ab23-f37fb4d893fc",
   "metadata": {},
   "outputs": [
    {
     "data": {
      "text/plain": [
       "array([0., 1., 0.])"
      ]
     },
     "execution_count": 7,
     "metadata": {},
     "output_type": "execute_result"
    }
   ],
   "source": [
    "bag_of_words(['hi'],['how','hi','how'])"
   ]
  },
  {
   "cell_type": "code",
   "execution_count": 8,
   "id": "189d5a64-942e-4916-8b93-499516e3f027",
   "metadata": {},
   "outputs": [],
   "source": [
    "data = pd.read_csv('./data.csv').sample(frac=1)"
   ]
  },
  {
   "cell_type": "code",
   "execution_count": 9,
   "id": "a8b9efa7-fafb-463a-a06b-0525600a0beb",
   "metadata": {},
   "outputs": [
    {
     "data": {
      "text/html": [
       "<div>\n",
       "<style scoped>\n",
       "    .dataframe tbody tr th:only-of-type {\n",
       "        vertical-align: middle;\n",
       "    }\n",
       "\n",
       "    .dataframe tbody tr th {\n",
       "        vertical-align: top;\n",
       "    }\n",
       "\n",
       "    .dataframe thead th {\n",
       "        text-align: right;\n",
       "    }\n",
       "</style>\n",
       "<table border=\"1\" class=\"dataframe\">\n",
       "  <thead>\n",
       "    <tr style=\"text-align: right;\">\n",
       "      <th></th>\n",
       "      <th>id</th>\n",
       "      <th>keyword</th>\n",
       "      <th>location</th>\n",
       "      <th>text</th>\n",
       "      <th>target</th>\n",
       "    </tr>\n",
       "  </thead>\n",
       "  <tbody>\n",
       "    <tr>\n",
       "      <th>514</th>\n",
       "      <td>740</td>\n",
       "      <td>attacked</td>\n",
       "      <td>SÌ£o Paulo SP,  Brasil</td>\n",
       "      <td>Christian Attacked by Muslims at the Temple Mo...</td>\n",
       "      <td>1</td>\n",
       "    </tr>\n",
       "    <tr>\n",
       "      <th>250</th>\n",
       "      <td>355</td>\n",
       "      <td>annihilation</td>\n",
       "      <td>NaN</td>\n",
       "      <td>U . S National Park Services Tonto National Fo...</td>\n",
       "      <td>0</td>\n",
       "    </tr>\n",
       "    <tr>\n",
       "      <th>4460</th>\n",
       "      <td>6343</td>\n",
       "      <td>hostages</td>\n",
       "      <td>NYC metro</td>\n",
       "      <td>Holmgren describing 96 World Cup :  we were Lo...</td>\n",
       "      <td>0</td>\n",
       "    </tr>\n",
       "    <tr>\n",
       "      <th>1199</th>\n",
       "      <td>1725</td>\n",
       "      <td>buildings%20burning</td>\n",
       "      <td>NJ</td>\n",
       "      <td>@ themagickidraps not upset with a rally upse...</td>\n",
       "      <td>1</td>\n",
       "    </tr>\n",
       "    <tr>\n",
       "      <th>5073</th>\n",
       "      <td>7231</td>\n",
       "      <td>natural%20disaster</td>\n",
       "      <td>NaN</td>\n",
       "      <td>Top insurer blasts lack of Australian Govt act...</td>\n",
       "      <td>1</td>\n",
       "    </tr>\n",
       "    <tr>\n",
       "      <th>...</th>\n",
       "      <td>...</td>\n",
       "      <td>...</td>\n",
       "      <td>...</td>\n",
       "      <td>...</td>\n",
       "      <td>...</td>\n",
       "    </tr>\n",
       "    <tr>\n",
       "      <th>5066</th>\n",
       "      <td>7223</td>\n",
       "      <td>natural%20disaster</td>\n",
       "      <td>America of Founding Fathers</td>\n",
       "      <td>This is the natural and unavoidable consequenc...</td>\n",
       "      <td>1</td>\n",
       "    </tr>\n",
       "    <tr>\n",
       "      <th>1615</th>\n",
       "      <td>2333</td>\n",
       "      <td>collapse</td>\n",
       "      <td>In the clouds...</td>\n",
       "      <td>@ BehindAShield  @ Wars_Goddess Sweet Lord . ...</td>\n",
       "      <td>0</td>\n",
       "    </tr>\n",
       "    <tr>\n",
       "      <th>7548</th>\n",
       "      <td>10789</td>\n",
       "      <td>wrecked</td>\n",
       "      <td>Pennsylvania</td>\n",
       "      <td>Four hundred wrecked cars  ( costing  $ 100 ap...</td>\n",
       "      <td>0</td>\n",
       "    </tr>\n",
       "    <tr>\n",
       "      <th>2436</th>\n",
       "      <td>3499</td>\n",
       "      <td>derailed</td>\n",
       "      <td>Toronto</td>\n",
       "      <td>So derailed_benchmark is cool for paths .  i w...</td>\n",
       "      <td>0</td>\n",
       "    </tr>\n",
       "    <tr>\n",
       "      <th>4656</th>\n",
       "      <td>6621</td>\n",
       "      <td>inundated</td>\n",
       "      <td>Singapore</td>\n",
       "      <td>Myanmar ' s president urged people to leave a ...</td>\n",
       "      <td>1</td>\n",
       "    </tr>\n",
       "  </tbody>\n",
       "</table>\n",
       "<p>7613 rows × 5 columns</p>\n",
       "</div>"
      ],
      "text/plain": [
       "         id              keyword                     location  \\\n",
       "514     740             attacked       SÌ£o Paulo SP,  Brasil   \n",
       "250     355         annihilation                          NaN   \n",
       "4460   6343             hostages                    NYC metro   \n",
       "1199   1725  buildings%20burning                           NJ   \n",
       "5073   7231   natural%20disaster                          NaN   \n",
       "...     ...                  ...                          ...   \n",
       "5066   7223   natural%20disaster  America of Founding Fathers   \n",
       "1615   2333             collapse             In the clouds...   \n",
       "7548  10789              wrecked                 Pennsylvania   \n",
       "2436   3499             derailed                      Toronto   \n",
       "4656   6621            inundated                    Singapore   \n",
       "\n",
       "                                                   text  target  \n",
       "514   Christian Attacked by Muslims at the Temple Mo...       1  \n",
       "250   U . S National Park Services Tonto National Fo...       0  \n",
       "4460  Holmgren describing 96 World Cup :  we were Lo...       0  \n",
       "1199   @ themagickidraps not upset with a rally upse...       1  \n",
       "5073  Top insurer blasts lack of Australian Govt act...       1  \n",
       "...                                                 ...     ...  \n",
       "5066  This is the natural and unavoidable consequenc...       1  \n",
       "1615   @ BehindAShield  @ Wars_Goddess Sweet Lord . ...       0  \n",
       "7548  Four hundred wrecked cars  ( costing  $ 100 ap...       0  \n",
       "2436  So derailed_benchmark is cool for paths .  i w...       0  \n",
       "4656  Myanmar ' s president urged people to leave a ...       1  \n",
       "\n",
       "[7613 rows x 5 columns]"
      ]
     },
     "execution_count": 9,
     "metadata": {},
     "output_type": "execute_result"
    }
   ],
   "source": [
    "data"
   ]
  },
  {
   "cell_type": "code",
   "execution_count": 10,
   "id": "21b3aeba-8589-4e62-87c9-6fbb51c02bcb",
   "metadata": {},
   "outputs": [],
   "source": [
    "X = data['text']\n",
    "y = data['target']\n",
    "words = []\n",
    "data = []\n",
    "idx = 0\n",
    "labels = {}\n",
    "labels_r = {}"
   ]
  },
  {
   "cell_type": "code",
   "execution_count": 15,
   "id": "8c1a06a1-e092-419d-96a8-039b17f0d847",
   "metadata": {},
   "outputs": [
    {
     "name": "stderr",
     "output_type": "stream",
     "text": [
      "100%|██████████| 7613/7613 [00:00<00:00, 1005834.95it/s]\n"
     ]
    }
   ],
   "source": [
    "for label in tqdm(y):\n",
    "    if label not in list(labels.keys()):\n",
    "        idx += 1\n",
    "        labels[label] = idx\n",
    "        labels_r[idx] = label"
   ]
  },
  {
   "cell_type": "code",
   "execution_count": 16,
   "id": "b60bee0f-935b-475f-85bf-eef042aa354f",
   "metadata": {},
   "outputs": [
    {
     "data": {
      "text/plain": [
       "0    4342\n",
       "1    3271\n",
       "Name: target, dtype: int64"
      ]
     },
     "execution_count": 16,
     "metadata": {},
     "output_type": "execute_result"
    }
   ],
   "source": [
    "y.value_counts()"
   ]
  },
  {
   "cell_type": "code",
   "execution_count": 17,
   "id": "45880338-f52d-41f8-a193-543cfa343147",
   "metadata": {},
   "outputs": [
    {
     "data": {
      "text/plain": [
       "{1: 1, 0: 2}"
      ]
     },
     "execution_count": 17,
     "metadata": {},
     "output_type": "execute_result"
    }
   ],
   "source": [
    "labels"
   ]
  },
  {
   "cell_type": "code",
   "execution_count": 18,
   "id": "254af320-ef1b-4f6b-9a0f-c8f1f70fd4c6",
   "metadata": {},
   "outputs": [
    {
     "data": {
      "text/plain": [
       "{1: 1, 2: 0}"
      ]
     },
     "execution_count": 18,
     "metadata": {},
     "output_type": "execute_result"
    }
   ],
   "source": [
    "labels_r"
   ]
  },
  {
   "cell_type": "code",
   "execution_count": 19,
   "id": "3b4a61f2-a7ca-4e95-b29e-61c9e53e0738",
   "metadata": {},
   "outputs": [
    {
     "name": "stderr",
     "output_type": "stream",
     "text": [
      "100%|██████████| 7613/7613 [00:02<00:00, 3248.75it/s]\n"
     ]
    }
   ],
   "source": [
    "for X_batch,y_batch in zip(tqdm(X),y):\n",
    "    X_batch = tokenize(X_batch)\n",
    "    new_X = []\n",
    "    for Xb in X_batch:\n",
    "        new_X.append(stem(Xb))\n",
    "    words.extend(new_X)\n",
    "    data.append([\n",
    "        new_X,\n",
    "        np.eye(labels[y_batch],len(labels))[labels[y_batch]-1]\n",
    "    ])"
   ]
  },
  {
   "cell_type": "code",
   "execution_count": 20,
   "id": "bc0e0545-fbf4-49a7-917b-204be61e9f7c",
   "metadata": {},
   "outputs": [],
   "source": [
    "words = sorted(set(words))\n",
    "np.random.shuffle(data)"
   ]
  },
  {
   "cell_type": "code",
   "execution_count": 21,
   "id": "6b4825c1-1e2b-4aaf-b0fd-2e14aa4143ee",
   "metadata": {},
   "outputs": [],
   "source": [
    "X = []\n",
    "y = []"
   ]
  },
  {
   "cell_type": "code",
   "execution_count": 22,
   "id": "83ea9bef-91a1-4e3d-84aa-e519f3def639",
   "metadata": {},
   "outputs": [
    {
     "name": "stderr",
     "output_type": "stream",
     "text": [
      "100%|██████████| 7613/7613 [00:21<00:00, 352.17it/s]\n"
     ]
    }
   ],
   "source": [
    "for d in tqdm(data):\n",
    "    X.append(bag_of_words(d[0],words))\n",
    "    y.append(d[1])"
   ]
  },
  {
   "cell_type": "code",
   "execution_count": 23,
   "id": "bac0974b-f7aa-4b3b-bc70-4c3ae97d3f88",
   "metadata": {},
   "outputs": [
    {
     "data": {
      "text/plain": [
       "(['fire',\n",
       "  'truck',\n",
       "  'and',\n",
       "  'ambul',\n",
       "  'in',\n",
       "  'k3',\n",
       "  'phase',\n",
       "  '3',\n",
       "  '.',\n",
       "  'hope',\n",
       "  'everyon',\n",
       "  \"'\",\n",
       "  's',\n",
       "  'okay',\n",
       "  '.',\n",
       "  '#',\n",
       "  'prayforsaipan'],\n",
       " array([1., 0.]))"
      ]
     },
     "execution_count": 23,
     "metadata": {},
     "output_type": "execute_result"
    }
   ],
   "source": [
    "d[0],d[1]"
   ]
  },
  {
   "cell_type": "code",
   "execution_count": 24,
   "id": "4932bddf-2dbf-4c57-909f-74ef46b52eec",
   "metadata": {},
   "outputs": [],
   "source": [
    "from sklearn.model_selection import *\n",
    "X_train,X_test,y_train,y_test = train_test_split(X,y,test_size=0.125,shuffle=False)\n",
    "X_train = torch.from_numpy(np.array(X_train)).to(device).float()\n",
    "y_train = torch.from_numpy(np.array(y_train)).to(device).float()\n",
    "X_test = torch.from_numpy(np.array(X_test)).to(device).float()\n",
    "y_test = torch.from_numpy(np.array(y_test)).to(device).float()"
   ]
  },
  {
   "cell_type": "code",
   "execution_count": 25,
   "id": "ed47ddd2-1002-48a9-942c-b14557a1cdf9",
   "metadata": {},
   "outputs": [],
   "source": [
    "def get_loss(model,X,y,criterion):\n",
    "    preds = model(X)\n",
    "    loss = criterion(preds,y)\n",
    "    return loss.item()"
   ]
  },
  {
   "cell_type": "code",
   "execution_count": 26,
   "id": "2e463f16-e4ac-4510-81a5-4376431a26d2",
   "metadata": {},
   "outputs": [],
   "source": [
    "def get_accuracy(model,X,y):\n",
    "    preds = model(X)\n",
    "    correct = 0\n",
    "    total = 0\n",
    "    for pred,yb in zip(preds,y):\n",
    "        pred = int(torch.argmax(pred))\n",
    "        yb = int(torch.argmax(yb))\n",
    "        if pred == yb:\n",
    "            correct += 1\n",
    "        total += 1\n",
    "    acc = round(correct/total,3)*100\n",
    "    return acc"
   ]
  },
  {
   "cell_type": "code",
   "execution_count": 27,
   "id": "93c7e975-13da-4548-b173-b9e3c2d3a3f2",
   "metadata": {},
   "outputs": [],
   "source": [
    "class Model(Module):\n",
    "    def __init__(self):\n",
    "        super().__init__()\n",
    "        self.hidden = 256\n",
    "        self.activation = ReLU()\n",
    "        self.input = Linear(len(words),self.hidden)\n",
    "        self.l1 = Linear(self.hidden,self.hidden)\n",
    "        self.l2 = Linear(self.hidden,self.hidden)\n",
    "        self.l3 = Linear(self.hidden,self.hidden)\n",
    "        self.l4 = Linear(self.hidden,self.hidden)\n",
    "        self.l5 = Linear(self.hidden,self.hidden)\n",
    "        self.output = Linear(self.hidden,len(labels))\n",
    "    \n",
    "    def forward(self,X):\n",
    "        preds = self.input(X)\n",
    "        preds = self.activation(self.l1(preds))\n",
    "        preds = self.activation(self.l2(preds))\n",
    "        preds = self.activation(self.l3(preds))\n",
    "        preds = self.activation(self.l4(preds))\n",
    "        preds = self.activation(self.l5(preds))\n",
    "        preds = self.output(preds)\n",
    "        return preds"
   ]
  },
  {
   "cell_type": "code",
   "execution_count": 28,
   "id": "583a5b90-2c0f-4b48-942b-f505c4356615",
   "metadata": {},
   "outputs": [],
   "source": [
    "model = Model().to(device)\n",
    "criterion = MSELoss()\n",
    "optimizer = Adam(model.parameters(),lr=0.001)\n",
    "epochs = 100\n",
    "batch_size = 32"
   ]
  },
  {
   "cell_type": "code",
   "execution_count": null,
   "id": "9de8b1fa-bca1-4af8-814b-7924c6597d3f",
   "metadata": {},
   "outputs": [
    {
     "name": "stderr",
     "output_type": "stream",
     "text": [
      "\u001b[34m\u001b[1mwandb\u001b[0m: Currently logged in as: \u001b[33mranuga-d\u001b[0m (use `wandb login --relogin` to force relogin)\n"
     ]
    },
    {
     "data": {
      "text/html": [
       "\n",
       "                    Syncing run <strong><a href=\"https://wandb.ai/ranuga-d/NLP-with-Disaster-Tweets-V2/runs/16wvnqvk\" target=\"_blank\">baseline</a></strong> to <a href=\"https://wandb.ai/ranuga-d/NLP-with-Disaster-Tweets-V2\" target=\"_blank\">Weights & Biases</a> (<a href=\"https://docs.wandb.com/integrations/jupyter.html\" target=\"_blank\">docs</a>).<br/>\n",
       "\n",
       "                "
      ],
      "text/plain": [
       "<IPython.core.display.HTML object>"
      ]
     },
     "metadata": {},
     "output_type": "display_data"
    },
    {
     "name": "stderr",
     "output_type": "stream",
     "text": [
      "  9%|▉         | 9/100 [00:07<01:08,  1.33it/s]"
     ]
    }
   ],
   "source": [
    "wandb.init(project=PROJECT_NAME,name='baseline')\n",
    "for _ in tqdm(range(epochs)):\n",
    "    for i in range(0,len(X_train),batch_size):\n",
    "        X_batch = X_train[i:i+batch_size]\n",
    "        y_batch = y_train[i:i+batch_size]\n",
    "        preds = model(X_batch)\n",
    "        loss = criterion(preds,y_batch)\n",
    "        optimizer.zero_grad()\n",
    "        loss.backward()\n",
    "        optimizer.step()\n",
    "    model.eval()\n",
    "    torch.cuda.empty_cache()\n",
    "    wandb.log({'Loss':(get_loss(model,X_train,y_train,criterion)+get_loss(model,X_batch,y_batch,criterion)/2)})\n",
    "    torch.cuda.empty_cache()\n",
    "    wandb.log({'Val Loss':get_loss(model,X_test,y_test,criterion)})\n",
    "    torch.cuda.empty_cache()\n",
    "    wandb.log({'Acc':(get_accuracy(model,X_train,y_train)+get_accuracy(model,X_batch,y_batch))/2})\n",
    "    torch.cuda.empty_cache()\n",
    "    wandb.log({'Val Acc':get_accuracy(model,X_test,y_test)})\n",
    "    torch.cuda.empty_cache()\n",
    "    model.train()\n",
    "wandb.finish()\n",
    "torch.cuda.empty_cache()"
   ]
  },
  {
   "cell_type": "code",
   "execution_count": null,
   "id": "fd31c3fe-0540-4368-8dfe-5bbc413074d7",
   "metadata": {},
   "outputs": [],
   "source": [
    "torch.save(model,'model.pt')\n",
    "torch.save(model,'model.pth')\n",
    "torch.save(model.state_dict(),'model-sd.pt')\n",
    "torch.save(model.state_dict(),'model-sd.pth')\n",
    "torch.save(words,'words.pt')\n",
    "torch.save(words,'words.pth')\n",
    "torch.save(data,'data.pt')\n",
    "torch.save(data,'data.pth')\n",
    "torch.save(labels,'labels.pt')\n",
    "torch.save(labels,'labels.pth')\n",
    "torch.save(idx,'idx.pt')\n",
    "torch.save(idx,'idx.pth')\n",
    "torch.save(y_train,'y_train.pt')\n",
    "torch.save(y_test,'y_test.pth')\n",
    "torch.save(y,'y.pt')\n",
    "torch.save(y,'y.pth')"
   ]
  },
  {
   "cell_type": "code",
   "execution_count": null,
   "id": "44c48970-42d9-4aec-b676-0f62801d6325",
   "metadata": {},
   "outputs": [],
   "source": []
  }
 ],
 "metadata": {
  "kernelspec": {
   "display_name": "Python 3.8.8 64-bit ('base': conda)",
   "language": "python",
   "name": "python388jvsc74a57bd07338908a6901250255932625ba4b5c32a9d91564d69b39dc5095100e5c96b0b4"
  },
  "language_info": {
   "codemirror_mode": {
    "name": "ipython",
    "version": 3
   },
   "file_extension": ".py",
   "mimetype": "text/x-python",
   "name": "python",
   "nbconvert_exporter": "python",
   "pygments_lexer": "ipython3",
   "version": "3.8.8"
  }
 },
 "nbformat": 4,
 "nbformat_minor": 5
}
